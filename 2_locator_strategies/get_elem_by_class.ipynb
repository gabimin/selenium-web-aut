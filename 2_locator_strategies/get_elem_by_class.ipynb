{
 "cells": [
  {
   "cell_type": "code",
   "execution_count": 7,
   "metadata": {},
   "outputs": [],
   "source": [
    "from selenium import webdriver\n",
    "from selenium.webdriver.common.by import By\n",
    "\n",
    "driver = webdriver.Chrome()\n",
    "driver.get(\"https://www.infobae.com\")"
   ]
  },
  {
   "cell_type": "code",
   "execution_count": 8,
   "metadata": {},
   "outputs": [
    {
     "name": "stdout",
     "output_type": "stream",
     "text": [
      "<selenium.webdriver.remote.webelement.WebElement (session=\"ffce8527d92c6c440f6d2368061d3289\", element=\"f.7094FF277EBC90453A21C5D257C61FED.d.F1A9BC2DC1F98D9D8500016288EF14D2.e.13\")>\n",
      "7\n",
      "[<selenium.webdriver.remote.webelement.WebElement (session=\"ffce8527d92c6c440f6d2368061d3289\", element=\"f.7094FF277EBC90453A21C5D257C61FED.d.F1A9BC2DC1F98D9D8500016288EF14D2.e.13\")>, <selenium.webdriver.remote.webelement.WebElement (session=\"ffce8527d92c6c440f6d2368061d3289\", element=\"f.7094FF277EBC90453A21C5D257C61FED.d.F1A9BC2DC1F98D9D8500016288EF14D2.e.14\")>, <selenium.webdriver.remote.webelement.WebElement (session=\"ffce8527d92c6c440f6d2368061d3289\", element=\"f.7094FF277EBC90453A21C5D257C61FED.d.F1A9BC2DC1F98D9D8500016288EF14D2.e.15\")>, <selenium.webdriver.remote.webelement.WebElement (session=\"ffce8527d92c6c440f6d2368061d3289\", element=\"f.7094FF277EBC90453A21C5D257C61FED.d.F1A9BC2DC1F98D9D8500016288EF14D2.e.16\")>, <selenium.webdriver.remote.webelement.WebElement (session=\"ffce8527d92c6c440f6d2368061d3289\", element=\"f.7094FF277EBC90453A21C5D257C61FED.d.F1A9BC2DC1F98D9D8500016288EF14D2.e.17\")>, <selenium.webdriver.remote.webelement.WebElement (session=\"ffce8527d92c6c440f6d2368061d3289\", element=\"f.7094FF277EBC90453A21C5D257C61FED.d.F1A9BC2DC1F98D9D8500016288EF14D2.e.18\")>, <selenium.webdriver.remote.webelement.WebElement (session=\"ffce8527d92c6c440f6d2368061d3289\", element=\"f.7094FF277EBC90453A21C5D257C61FED.d.F1A9BC2DC1F98D9D8500016288EF14D2.e.19\")>]\n",
      "Element 1:\n",
      "<selenium.webdriver.remote.webelement.WebElement (session=\"ffce8527d92c6c440f6d2368061d3289\", element=\"f.7094FF277EBC90453A21C5D257C61FED.d.F1A9BC2DC1F98D9D8500016288EF14D2.e.13\")>\n",
      "\n",
      "Element 2:\n",
      "<selenium.webdriver.remote.webelement.WebElement (session=\"ffce8527d92c6c440f6d2368061d3289\", element=\"f.7094FF277EBC90453A21C5D257C61FED.d.F1A9BC2DC1F98D9D8500016288EF14D2.e.14\")>\n",
      "\n",
      "Element 3:\n",
      "<selenium.webdriver.remote.webelement.WebElement (session=\"ffce8527d92c6c440f6d2368061d3289\", element=\"f.7094FF277EBC90453A21C5D257C61FED.d.F1A9BC2DC1F98D9D8500016288EF14D2.e.15\")>\n",
      "\n",
      "Element 4:\n",
      "<selenium.webdriver.remote.webelement.WebElement (session=\"ffce8527d92c6c440f6d2368061d3289\", element=\"f.7094FF277EBC90453A21C5D257C61FED.d.F1A9BC2DC1F98D9D8500016288EF14D2.e.16\")>\n",
      "\n",
      "Element 5:\n",
      "<selenium.webdriver.remote.webelement.WebElement (session=\"ffce8527d92c6c440f6d2368061d3289\", element=\"f.7094FF277EBC90453A21C5D257C61FED.d.F1A9BC2DC1F98D9D8500016288EF14D2.e.17\")>\n",
      "\n",
      "Element 6:\n",
      "<selenium.webdriver.remote.webelement.WebElement (session=\"ffce8527d92c6c440f6d2368061d3289\", element=\"f.7094FF277EBC90453A21C5D257C61FED.d.F1A9BC2DC1F98D9D8500016288EF14D2.e.18\")>\n",
      "\n",
      "Element 7:\n",
      "<selenium.webdriver.remote.webelement.WebElement (session=\"ffce8527d92c6c440f6d2368061d3289\", element=\"f.7094FF277EBC90453A21C5D257C61FED.d.F1A9BC2DC1F98D9D8500016288EF14D2.e.19\")>\n",
      "\n"
     ]
    }
   ],
   "source": [
    "#driver.find_element(locator_strategy, value)\n",
    "elemento = driver.find_element(By.CLASS_NAME, \"mhh-nav-item\")\n",
    "elementos = driver.find_elements(By.CLASS_NAME, \"mhh-nav-item\")\n",
    "#print first element\n",
    "print(elemento)\n",
    "print()\n",
    "#print all elements\n",
    "for i, elemento in enumerate(elementos, 1):\n",
    "    print(f\"Element {i}:\")\n",
    "    print(elemento)\n",
    "    print()  "
   ]
  }
 ],
 "metadata": {
  "kernelspec": {
   "display_name": "Python 3",
   "language": "python",
   "name": "python3"
  },
  "language_info": {
   "codemirror_mode": {
    "name": "ipython",
    "version": 3
   },
   "file_extension": ".py",
   "mimetype": "text/x-python",
   "name": "python",
   "nbconvert_exporter": "python",
   "pygments_lexer": "ipython3",
   "version": "3.10.12"
  }
 },
 "nbformat": 4,
 "nbformat_minor": 2
}
