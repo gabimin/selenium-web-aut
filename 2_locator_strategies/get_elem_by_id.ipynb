{
 "cells": [
  {
   "cell_type": "code",
   "execution_count": 7,
   "metadata": {},
   "outputs": [],
   "source": [
    "from selenium import webdriver\n",
    "from selenium.webdriver.common.by import By # type: ignore\n",
    "\n",
    "driver = webdriver.Chrome()\n",
    "driver.get(\"https://www.infobae.com\")"
   ]
  },
  {
   "cell_type": "code",
   "execution_count": 8,
   "metadata": {},
   "outputs": [
    {
     "name": "stdout",
     "output_type": "stream",
     "text": [
      "<selenium.webdriver.remote.webelement.WebElement (session=\"9bb39506b7f7489c084484a0d55a0eea\", element=\"f.89DFF8B3CE8DD0C390169FB07381B5E3.d.26E9601511EB2D85099D03DCCD1E1BB6.e.11\")>\n",
      "[<selenium.webdriver.remote.webelement.WebElement (session=\"9bb39506b7f7489c084484a0d55a0eea\", element=\"f.89DFF8B3CE8DD0C390169FB07381B5E3.d.26E9601511EB2D85099D03DCCD1E1BB6.e.11\")>]\n"
     ]
    }
   ],
   "source": [
    "#driver.find_element(locator_strategy, value)\n",
    "\n",
    "elemento = driver.find_element(By.ID, \"hamburger-icon\")\n",
    "\n",
    "print(elemento)\n"
   ]
  }
 ],
 "metadata": {
  "kernelspec": {
   "display_name": "Python 3",
   "language": "python",
   "name": "python3"
  },
  "language_info": {
   "codemirror_mode": {
    "name": "ipython",
    "version": 3
   },
   "file_extension": ".py",
   "mimetype": "text/x-python",
   "name": "python",
   "nbconvert_exporter": "python",
   "pygments_lexer": "ipython3",
   "version": "3.10.12"
  }
 },
 "nbformat": 4,
 "nbformat_minor": 2
}
