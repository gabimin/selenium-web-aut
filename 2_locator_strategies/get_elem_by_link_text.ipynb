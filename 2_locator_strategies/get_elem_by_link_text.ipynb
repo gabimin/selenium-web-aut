{
 "cells": [
  {
   "cell_type": "code",
   "execution_count": 19,
   "metadata": {},
   "outputs": [],
   "source": [
    "from selenium import webdriver\n",
    "from selenium.webdriver.common.by import By\n",
    "\n",
    "driver = webdriver.Chrome()\n",
    "driver.get(\"https://www.reuters.com/\")\n"
   ]
  },
  {
   "cell_type": "code",
   "execution_count": 20,
   "metadata": {},
   "outputs": [
    {
     "name": "stdout",
     "output_type": "stream",
     "text": [
      "<selenium.webdriver.remote.webelement.WebElement (session=\"89efb05f6bd1b492a05156cdbc4f4e7f\", element=\"f.6C9A1C739114414DF23F69C0DD2FAB48.d.93422F2F65097AB955C8315B8B51CDF6.e.35\")>\n"
     ]
    }
   ],
   "source": [
    "#driver.find_element(locator_strategy, value)\n",
    "\n",
    "elemento = driver.find_element(By.LINK_TEXT, 'Exclusive news, data and analytics for financial market professionals')\n",
    "\n",
    "print(elemento)\n"
   ]
  }
 ],
 "metadata": {
  "kernelspec": {
   "display_name": "Python 3",
   "language": "python",
   "name": "python3"
  },
  "language_info": {
   "codemirror_mode": {
    "name": "ipython",
    "version": 3
   },
   "file_extension": ".py",
   "mimetype": "text/x-python",
   "name": "python",
   "nbconvert_exporter": "python",
   "pygments_lexer": "ipython3",
   "version": "3.10.12"
  }
 },
 "nbformat": 4,
 "nbformat_minor": 2
}
