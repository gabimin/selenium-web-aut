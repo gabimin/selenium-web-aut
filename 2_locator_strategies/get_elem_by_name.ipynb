{
 "cells": [
  {
   "cell_type": "code",
   "execution_count": 3,
   "metadata": {},
   "outputs": [],
   "source": [
    "from selenium import webdriver\n",
    "from selenium.webdriver.common.by import By\n",
    "\n",
    "driver = webdriver.Chrome()\n",
    "driver.get(\"https://www.newgarden.com.ar\")"
   ]
  },
  {
   "cell_type": "code",
   "execution_count": 4,
   "metadata": {},
   "outputs": [
    {
     "name": "stdout",
     "output_type": "stream",
     "text": [
      "<selenium.webdriver.remote.webelement.WebElement (session=\"a3cbafba3f8f02fe43bc598107efa0bb\", element=\"f.A82F1C0A49099F1133400C3EF276D45B.d.144B29A31C31E578C7B134B26108A65F.e.26\")>\n"
     ]
    }
   ],
   "source": [
    "#driver.find_element(locator_strategy, value)\n",
    "\n",
    "elemento = driver.find_element(By.NAME, 'q')\n",
    "\n",
    "print(elemento)\n"
   ]
  }
 ],
 "metadata": {
  "kernelspec": {
   "display_name": "Python 3",
   "language": "python",
   "name": "python3"
  },
  "language_info": {
   "codemirror_mode": {
    "name": "ipython",
    "version": 3
   },
   "file_extension": ".py",
   "mimetype": "text/x-python",
   "name": "python",
   "nbconvert_exporter": "python",
   "pygments_lexer": "ipython3",
   "version": "3.10.12"
  }
 },
 "nbformat": 4,
 "nbformat_minor": 2
}
