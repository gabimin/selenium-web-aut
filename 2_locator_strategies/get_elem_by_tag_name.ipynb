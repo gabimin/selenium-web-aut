{
 "cells": [
  {
   "cell_type": "code",
   "execution_count": 7,
   "metadata": {},
   "outputs": [],
   "source": [
    "from selenium import webdriver\n",
    "from selenium.webdriver.common.by import By\n",
    "\n",
    "driver = webdriver.Chrome()\n",
    "driver.get(\"https://www.infobae.com\")\n"
   ]
  },
  {
   "cell_type": "code",
   "execution_count": 8,
   "metadata": {},
   "outputs": [
    {
     "name": "stdout",
     "output_type": "stream",
     "text": [
      "<selenium.webdriver.remote.webelement.WebElement (session=\"dade7141446f97fd7b28d980b8840f5a\", element=\"f.E47A342D0C7519F3926DC33117CD434E.d.227C3ACD6B64C052FCD4D1E9FF6A02F2.e.25\")>\n",
      "\n",
      "Element 1:\n",
      "<selenium.webdriver.remote.webelement.WebElement (session=\"dade7141446f97fd7b28d980b8840f5a\", element=\"f.E47A342D0C7519F3926DC33117CD434E.d.227C3ACD6B64C052FCD4D1E9FF6A02F2.e.25\")>\n",
      "\n",
      "Element 2:\n",
      "<selenium.webdriver.remote.webelement.WebElement (session=\"dade7141446f97fd7b28d980b8840f5a\", element=\"f.E47A342D0C7519F3926DC33117CD434E.d.227C3ACD6B64C052FCD4D1E9FF6A02F2.e.26\")>\n",
      "\n",
      "Element 3:\n",
      "<selenium.webdriver.remote.webelement.WebElement (session=\"dade7141446f97fd7b28d980b8840f5a\", element=\"f.E47A342D0C7519F3926DC33117CD434E.d.227C3ACD6B64C052FCD4D1E9FF6A02F2.e.27\")>\n",
      "\n",
      "Element 4:\n",
      "<selenium.webdriver.remote.webelement.WebElement (session=\"dade7141446f97fd7b28d980b8840f5a\", element=\"f.E47A342D0C7519F3926DC33117CD434E.d.227C3ACD6B64C052FCD4D1E9FF6A02F2.e.28\")>\n",
      "\n",
      "Element 5:\n",
      "<selenium.webdriver.remote.webelement.WebElement (session=\"dade7141446f97fd7b28d980b8840f5a\", element=\"f.E47A342D0C7519F3926DC33117CD434E.d.227C3ACD6B64C052FCD4D1E9FF6A02F2.e.29\")>\n",
      "\n",
      "Element 6:\n",
      "<selenium.webdriver.remote.webelement.WebElement (session=\"dade7141446f97fd7b28d980b8840f5a\", element=\"f.E47A342D0C7519F3926DC33117CD434E.d.227C3ACD6B64C052FCD4D1E9FF6A02F2.e.30\")>\n",
      "\n",
      "Element 7:\n",
      "<selenium.webdriver.remote.webelement.WebElement (session=\"dade7141446f97fd7b28d980b8840f5a\", element=\"f.E47A342D0C7519F3926DC33117CD434E.d.227C3ACD6B64C052FCD4D1E9FF6A02F2.e.31\")>\n",
      "\n",
      "Element 8:\n",
      "<selenium.webdriver.remote.webelement.WebElement (session=\"dade7141446f97fd7b28d980b8840f5a\", element=\"f.E47A342D0C7519F3926DC33117CD434E.d.227C3ACD6B64C052FCD4D1E9FF6A02F2.e.32\")>\n",
      "\n",
      "Element 9:\n",
      "<selenium.webdriver.remote.webelement.WebElement (session=\"dade7141446f97fd7b28d980b8840f5a\", element=\"f.E47A342D0C7519F3926DC33117CD434E.d.227C3ACD6B64C052FCD4D1E9FF6A02F2.e.33\")>\n",
      "\n",
      "Element 10:\n",
      "<selenium.webdriver.remote.webelement.WebElement (session=\"dade7141446f97fd7b28d980b8840f5a\", element=\"f.E47A342D0C7519F3926DC33117CD434E.d.227C3ACD6B64C052FCD4D1E9FF6A02F2.e.34\")>\n",
      "\n",
      "Element 11:\n",
      "<selenium.webdriver.remote.webelement.WebElement (session=\"dade7141446f97fd7b28d980b8840f5a\", element=\"f.E47A342D0C7519F3926DC33117CD434E.d.227C3ACD6B64C052FCD4D1E9FF6A02F2.e.35\")>\n",
      "\n",
      "Element 12:\n",
      "<selenium.webdriver.remote.webelement.WebElement (session=\"dade7141446f97fd7b28d980b8840f5a\", element=\"f.E47A342D0C7519F3926DC33117CD434E.d.227C3ACD6B64C052FCD4D1E9FF6A02F2.e.36\")>\n",
      "\n",
      "Element 13:\n",
      "<selenium.webdriver.remote.webelement.WebElement (session=\"dade7141446f97fd7b28d980b8840f5a\", element=\"f.E47A342D0C7519F3926DC33117CD434E.d.227C3ACD6B64C052FCD4D1E9FF6A02F2.e.37\")>\n",
      "\n",
      "Element 14:\n",
      "<selenium.webdriver.remote.webelement.WebElement (session=\"dade7141446f97fd7b28d980b8840f5a\", element=\"f.E47A342D0C7519F3926DC33117CD434E.d.227C3ACD6B64C052FCD4D1E9FF6A02F2.e.38\")>\n",
      "\n",
      "Element 15:\n",
      "<selenium.webdriver.remote.webelement.WebElement (session=\"dade7141446f97fd7b28d980b8840f5a\", element=\"f.E47A342D0C7519F3926DC33117CD434E.d.227C3ACD6B64C052FCD4D1E9FF6A02F2.e.39\")>\n",
      "\n"
     ]
    }
   ],
   "source": [
    "#driver.find_element(locator_strategy, value)\n",
    "elemento = driver.find_element(By.TAG_NAME, \"h3\")\n",
    "elementos = driver.find_elements(By.TAG_NAME, \"h3\")\n",
    "#print first element\n",
    "print(elemento)\n",
    "print()\n",
    "#print all elements\n",
    "for i, elemento in enumerate(elementos, 1):\n",
    "    print(f\"Element {i}:\")\n",
    "    print(elemento)\n",
    "    print()  "
   ]
  }
 ],
 "metadata": {
  "kernelspec": {
   "display_name": "Python 3",
   "language": "python",
   "name": "python3"
  },
  "language_info": {
   "codemirror_mode": {
    "name": "ipython",
    "version": 3
   },
   "file_extension": ".py",
   "mimetype": "text/x-python",
   "name": "python",
   "nbconvert_exporter": "python",
   "pygments_lexer": "ipython3",
   "version": "3.10.12"
  }
 },
 "nbformat": 4,
 "nbformat_minor": 2
}
