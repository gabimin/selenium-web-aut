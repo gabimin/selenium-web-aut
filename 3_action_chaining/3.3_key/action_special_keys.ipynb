{
 "cells": [
  {
   "cell_type": "code",
   "execution_count": 38,
   "metadata": {},
   "outputs": [],
   "source": [
    "from selenium import webdriver\n",
    "from selenium.webdriver.common.action_chains import ActionChains\n",
    "from selenium.webdriver.common.by import By \n",
    "from selenium.webdriver.common.keys import Keys\n",
    "import time"
   ]
  },
  {
   "cell_type": "code",
   "execution_count": 39,
   "metadata": {},
   "outputs": [],
   "source": [
    "driver = webdriver.Chrome()\n",
    "driver.get(\"https://www.buenosaires.gob.ar\")\n",
    "driver.set_window_size(1920, 1080)  "
   ]
  },
  {
   "cell_type": "code",
   "execution_count": 40,
   "metadata": {},
   "outputs": [],
   "source": [
    "action = ActionChains(driver)\n",
    "search = driver.find_element(By.NAME, 'search-home')\n",
    "\n",
    "action.key_down(Keys.SHIFT, search).send_keys(\"multas\").key_down(Keys.ENTER,search).perform()\n",
    "\n",
    "time.sleep(10)"
   ]
  },
  {
   "cell_type": "code",
   "execution_count": 41,
   "metadata": {},
   "outputs": [],
   "source": [
    "# Special Keys in Selenium include:\n",
    "\n",
    "# ADD \n",
    "# DOWN \n",
    "# END \n",
    "# ENTER\n",
    "# EQUALS \n",
    "# ESCAPE \n",
    "# F1\n",
    "# F10 \n",
    "# F11 \n",
    "# F12\n",
    "# F2 \n",
    "# F3 \n",
    "# F4\n",
    "# F5 \n",
    "# F6 \n",
    "# F7\n",
    "# F8 \n",
    "# F9 \n",
    "# HELP\n",
    "# HOME \n",
    "# INSERT \n",
    "# LEFT\n",
    "# LEFT_ALT \n",
    "# LEFT_CONTROL \n",
    "# LEFT_SHIFT\n",
    "# META \n",
    "# MULTIPLY \n",
    "# NULL\n",
    "# NUMPAD0 \n",
    "# NUMPAD1 \n",
    "# NUMPAD2\n",
    "# NUMPAD3 \n",
    "# NUMPAD4 \n",
    "# NUMPAD5\n",
    "# NUMPAD6 \n",
    "# NUMPAD7 \n",
    "# NUMPAD8\n",
    "# NUMPAD9 \n",
    "# PAGE_DOWN \n",
    "# PAGE_UP\n",
    "# PAUSE \n",
    "# RETURN \n",
    "# RIGHT\n",
    "# SEMICOLON \n",
    "# SEPARATOR \n",
    "# SHIFT\n",
    "# SPACE \n",
    "# SUBTRACT \n",
    "# TAB\n",
    "# ALT \n",
    "# ARROW_DOWN\n",
    "# ARROW_LEFT \n",
    "# ARROW_RIGHT\n",
    "# ARROW_UP \n",
    "# BACKSPACE\n",
    "# BACK_SPACE \n",
    "# CANCEL\n",
    "# CLEAR \n",
    "# COMMAND\n",
    "# CONTROL\n",
    "# DECIMAL\n",
    "# DELETE\n",
    "# DIVIDE"
   ]
  },
  {
   "cell_type": "code",
   "execution_count": 42,
   "metadata": {},
   "outputs": [],
   "source": [
    "\n",
    "driver.quit()   "
   ]
  }
 ],
 "metadata": {
  "kernelspec": {
   "display_name": "Python 3",
   "language": "python",
   "name": "python3"
  },
  "language_info": {
   "codemirror_mode": {
    "name": "ipython",
    "version": 3
   },
   "file_extension": ".py",
   "mimetype": "text/x-python",
   "name": "python",
   "nbconvert_exporter": "python",
   "pygments_lexer": "ipython3",
   "version": "3.10.12"
  }
 },
 "nbformat": 4,
 "nbformat_minor": 2
}
