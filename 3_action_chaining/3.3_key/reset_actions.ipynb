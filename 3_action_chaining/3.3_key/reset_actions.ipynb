{
 "cells": [
  {
   "cell_type": "code",
   "execution_count": 68,
   "metadata": {},
   "outputs": [],
   "source": [
    "from selenium import webdriver\n",
    "from selenium.webdriver.common.action_chains import ActionChains\n",
    "from selenium.webdriver.common.by import By \n",
    "from selenium.webdriver.common.keys import Keys\n",
    "import time"
   ]
  },
  {
   "cell_type": "code",
   "execution_count": 69,
   "metadata": {},
   "outputs": [],
   "source": [
    "driver = webdriver.Chrome()\n",
    "driver.get(\"https://www.buenosaires.gob.ar\")\n",
    "driver.set_window_size(1920, 1080)  "
   ]
  },
  {
   "cell_type": "code",
   "execution_count": 70,
   "metadata": {},
   "outputs": [],
   "source": [
    "action = ActionChains(driver)\n",
    "search = driver.find_element(By.NAME, 'search-home')\n",
    "\n",
    "action.move_to_element(search).click().send_keys(\"multas\").key_down(Keys.ENTER).perform() \n",
    "\n",
    "time.sleep(4)"
   ]
  },
  {
   "cell_type": "code",
   "execution_count": 71,
   "metadata": {},
   "outputs": [],
   "source": [
    "action.reset_actions()\n",
    "\n",
    "action = ActionChains(driver)\n",
    "\n",
    "search2 = driver.find_element(By.ID, 'search-input')\n",
    "btn = driver.find_element(By.CLASS_NAME, 'submit-search')\n",
    "\n",
    "action.move_to_element(search2).click().send_keys(\"impuestos\")\n",
    "\n",
    "action.move_to_element(btn).click().perform()\n",
    "\n",
    "time.sleep(10)\n",
    "\n",
    "driver.quit()   "
   ]
  }
 ],
 "metadata": {
  "kernelspec": {
   "display_name": "Python 3",
   "language": "python",
   "name": "python3"
  },
  "language_info": {
   "codemirror_mode": {
    "name": "ipython",
    "version": 3
   },
   "file_extension": ".py",
   "mimetype": "text/x-python",
   "name": "python",
   "nbconvert_exporter": "python",
   "pygments_lexer": "ipython3",
   "version": "3.10.12"
  }
 },
 "nbformat": 4,
 "nbformat_minor": 2
}
