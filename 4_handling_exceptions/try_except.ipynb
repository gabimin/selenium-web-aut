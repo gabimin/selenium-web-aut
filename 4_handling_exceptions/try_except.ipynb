{
 "cells": [
  {
   "cell_type": "code",
   "execution_count": 7,
   "id": "3d8eae3f",
   "metadata": {},
   "outputs": [],
   "source": [
    "from selenium import webdriver\n",
    "from selenium.webdriver.common.by import By\n",
    "from selenium.webdriver.common.action_chains import ActionChains\n",
    "from selenium.common.exceptions import NoSuchElementException\n",
    "import time"
   ]
  },
  {
   "cell_type": "code",
   "execution_count": 8,
   "id": "55d3a99d",
   "metadata": {},
   "outputs": [],
   "source": [
    "driver = webdriver.Chrome()\n",
    "driver.get(\"https://www.buenosaires.gob.ar\")\n",
    "driver.set_window_size(1920, 1080)  "
   ]
  },
  {
   "cell_type": "code",
   "execution_count": 9,
   "id": "e500b471",
   "metadata": {},
   "outputs": [
    {
     "name": "stdout",
     "output_type": "stream",
     "text": [
      "Element with the specified classname does not exist\n"
     ]
    }
   ],
   "source": [
    "action = ActionChains(driver)\n",
    "\n",
    "try:\n",
    "    elemento = driver.find_element(By.XPATH, '//*[@id=\"tramites-y-servicios\"]/div/div/div/div[4]/a/div/h')\n",
    "    elemento.click()\n",
    "except NoSuchElementException:\n",
    "    print(\"Element with the specified classname does not exist\")\n",
    "\n",
    "action.perform()\n",
    "time.sleep(10) \n",
    "\n",
    "driver.quit()"
   ]
  },
  {
   "cell_type": "code",
   "execution_count": null,
   "id": "74769ba0",
   "metadata": {},
   "outputs": [],
   "source": []
  }
 ],
 "metadata": {
  "kernelspec": {
   "display_name": "Python 3 (ipykernel)",
   "language": "python",
   "name": "python3"
  },
  "language_info": {
   "codemirror_mode": {
    "name": "ipython",
    "version": 3
   },
   "file_extension": ".py",
   "mimetype": "text/x-python",
   "name": "python",
   "nbconvert_exporter": "python",
   "pygments_lexer": "ipython3",
   "version": "3.10.12"
  }
 },
 "nbformat": 4,
 "nbformat_minor": 5
}
